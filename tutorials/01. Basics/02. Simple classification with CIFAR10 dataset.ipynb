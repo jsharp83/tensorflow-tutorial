{
 "cells": [
  {
   "cell_type": "markdown",
   "metadata": {},
   "source": [
    "## Load CIFAR-10 dataset"
   ]
  },
  {
   "cell_type": "code",
   "execution_count": 1,
   "metadata": {},
   "outputs": [
    {
     "name": "stderr",
     "output_type": "stream",
     "text": [
      "Using TensorFlow backend.\n"
     ]
    }
   ],
   "source": [
    "import numpy as np\n",
    "from keras.utils import to_categorical\n",
    "from keras.datasets import cifar10\n",
    "\n",
    "(x_train, y_train), (x_test, y_test) = cifar10.load_data()\n",
    "\n",
    "NUM_CLASSES = 10\n",
    "\n",
    "x_train = x_train.astype('float32') / 255.0\n",
    "x_test = x_test.astype('float32') / 255.0\n",
    "\n",
    "y_train = to_categorical(y_train, NUM_CLASSES)\n",
    "y_test = to_categorical(y_test, NUM_CLASSES)\n"
   ]
  },
  {
   "cell_type": "code",
   "execution_count": 2,
   "metadata": {},
   "outputs": [
    {
     "name": "stdout",
     "output_type": "stream",
     "text": [
      "(50000, 32, 32, 3)\n",
      "(50000, 10)\n",
      "[[[0.23137255 0.24313726 0.24705882]\n",
      "  [0.16862746 0.18039216 0.1764706 ]\n",
      "  [0.19607843 0.1882353  0.16862746]\n",
      "  ...\n",
      "  [0.61960787 0.5176471  0.42352942]\n",
      "  [0.59607846 0.49019608 0.4       ]\n",
      "  [0.5803922  0.4862745  0.40392157]]\n",
      "\n",
      " [[0.0627451  0.07843138 0.07843138]\n",
      "  [0.         0.         0.        ]\n",
      "  [0.07058824 0.03137255 0.        ]\n",
      "  ...\n",
      "  [0.48235294 0.34509805 0.21568628]\n",
      "  [0.46666667 0.3254902  0.19607843]\n",
      "  [0.47843137 0.34117648 0.22352941]]\n",
      "\n",
      " [[0.09803922 0.09411765 0.08235294]\n",
      "  [0.0627451  0.02745098 0.        ]\n",
      "  [0.19215687 0.10588235 0.03137255]\n",
      "  ...\n",
      "  [0.4627451  0.32941177 0.19607843]\n",
      "  [0.47058824 0.32941177 0.19607843]\n",
      "  [0.42745098 0.28627452 0.16470589]]\n",
      "\n",
      " ...\n",
      "\n",
      " [[0.8156863  0.6666667  0.3764706 ]\n",
      "  [0.7882353  0.6        0.13333334]\n",
      "  [0.7764706  0.6313726  0.10196079]\n",
      "  ...\n",
      "  [0.627451   0.52156866 0.27450982]\n",
      "  [0.21960784 0.12156863 0.02745098]\n",
      "  [0.20784314 0.13333334 0.07843138]]\n",
      "\n",
      " [[0.7058824  0.54509807 0.3764706 ]\n",
      "  [0.6784314  0.48235294 0.16470589]\n",
      "  [0.7294118  0.5647059  0.11764706]\n",
      "  ...\n",
      "  [0.72156864 0.5803922  0.36862746]\n",
      "  [0.38039216 0.24313726 0.13333334]\n",
      "  [0.3254902  0.20784314 0.13333334]]\n",
      "\n",
      " [[0.69411767 0.5647059  0.45490196]\n",
      "  [0.65882355 0.5058824  0.36862746]\n",
      "  [0.7019608  0.5568628  0.34117648]\n",
      "  ...\n",
      "  [0.84705883 0.72156864 0.54901963]\n",
      "  [0.5921569  0.4627451  0.32941177]\n",
      "  [0.48235294 0.36078432 0.28235295]]]\n",
      "[0. 0. 0. 0. 0. 0. 1. 0. 0. 0.]\n"
     ]
    }
   ],
   "source": [
    "print(x_train.shape)\n",
    "print(y_train.shape)\n",
    "print(x_train[0])\n",
    "print(y_train[0])"
   ]
  },
  {
   "cell_type": "code",
   "execution_count": 3,
   "metadata": {},
   "outputs": [
    {
     "data": {
      "text/plain": [
       "<matplotlib.image.AxesImage at 0x7f621f0e5748>"
      ]
     },
     "execution_count": 3,
     "metadata": {},
     "output_type": "execute_result"
    },
    {
     "data": {
      "image/png": "[encoded data removed]",
      "text/plain": [
       "<Figure size 432x288 with 1 Axes>"
      ]
     },
     "metadata": {
      "needs_background": "light"
     },
     "output_type": "display_data"
    }
   ],
   "source": [
    "import matplotlib.pyplot as plt\n",
    "\n",
    "img = x_train[0]\n",
    "plt.imshow(img)"
   ]
  },
  {
   "cell_type": "markdown",
   "metadata": {},
   "source": [
    "## Create Model"
   ]
  },
  {
   "cell_type": "code",
   "execution_count": 4,
   "metadata": {},
   "outputs": [
    {
     "name": "stdout",
     "output_type": "stream",
     "text": [
      "Model: \"sequential_1\"\n",
      "_________________________________________________________________\n",
      "Layer (type)                 Output Shape              Param #   \n",
      "=================================================================\n",
      "flatten_1 (Flatten)          (None, 3072)              0         \n",
      "_________________________________________________________________\n",
      "dense_1 (Dense)              (None, 200)               614600    \n",
      "_________________________________________________________________\n",
      "dense_2 (Dense)              (None, 100)               20100     \n",
      "_________________________________________________________________\n",
      "dense_3 (Dense)              (None, 50)                5050      \n",
      "_________________________________________________________________\n",
      "dense_4 (Dense)              (None, 10)                510       \n",
      "=================================================================\n",
      "Total params: 640,260\n",
      "Trainable params: 640,260\n",
      "Non-trainable params: 0\n",
      "_________________________________________________________________\n"
     ]
    }
   ],
   "source": [
    "from keras.models import Sequential\n",
    "from keras.layers import Flatten, Dense\n",
    "\n",
    "model = Sequential([\n",
    "    Flatten(input_shape=(32, 32, 3)),\n",
    "    Dense(200, activation = 'relu'),\n",
    "    Dense(100, activation = 'relu'),\n",
    "    Dense(50, activation = 'relu'),    \n",
    "    Dense(10, activation = 'softmax'),\n",
    "])\n",
    "\n",
    "model.summary()"
   ]
  },
  {
   "cell_type": "markdown",
   "metadata": {},
   "source": [
    "## Training the model"
   ]
  },
  {
   "cell_type": "code",
   "execution_count": 5,
   "metadata": {},
   "outputs": [
    {
     "name": "stdout",
     "output_type": "stream",
     "text": [
      "Epoch 1/10\n",
      "50000/50000 [==============================] - 7s 132us/step - loss: 1.8643 - accuracy: 0.3254\n",
      "Epoch 2/10\n",
      "50000/50000 [==============================] - 6s 118us/step - loss: 1.6739 - accuracy: 0.3985\n",
      "Epoch 3/10\n",
      "50000/50000 [==============================] - 6s 124us/step - loss: 1.5974 - accuracy: 0.4273\n",
      "Epoch 4/10\n",
      "50000/50000 [==============================] - 6s 125us/step - loss: 1.5409 - accuracy: 0.4497\n",
      "Epoch 5/10\n",
      "50000/50000 [==============================] - 5s 102us/step - loss: 1.4975 - accuracy: 0.4663\n",
      "Epoch 6/10\n",
      "50000/50000 [==============================] - 5s 107us/step - loss: 1.4656 - accuracy: 0.4772\n",
      "Epoch 7/10\n",
      "50000/50000 [==============================] - 6s 118us/step - loss: 1.4451 - accuracy: 0.4842\n",
      "Epoch 8/10\n",
      "50000/50000 [==============================] - 6s 122us/step - loss: 1.4134 - accuracy: 0.4946\n",
      "Epoch 9/10\n",
      "50000/50000 [==============================] - 7s 130us/step - loss: 1.3916 - accuracy: 0.5023\n",
      "Epoch 10/10\n",
      "50000/50000 [==============================] - 6s 120us/step - loss: 1.3713 - accuracy: 0.5133\n"
     ]
    },
    {
     "data": {
      "text/plain": [
       "<keras.callbacks.callbacks.History at 0x7f621f0acbe0>"
      ]
     },
     "execution_count": 5,
     "metadata": {},
     "output_type": "execute_result"
    }
   ],
   "source": [
    "from keras.optimizers import Adam\n",
    "\n",
    "opt = Adam(lr=0.0005)\n",
    "model.compile(loss='categorical_crossentropy', optimizer=opt, metrics=['accuracy'])\n",
    "\n",
    "model.fit(x_train,          \n",
    "          y_train,\n",
    "          batch_size = 32,\n",
    "          epochs = 10,\n",
    "          shuffle = True)"
   ]
  },
  {
   "cell_type": "markdown",
   "metadata": {},
   "source": [
    "## Evaluating the model"
   ]
  },
  {
   "cell_type": "code",
   "execution_count": 6,
   "metadata": {},
   "outputs": [
    {
     "name": "stdout",
     "output_type": "stream",
     "text": [
      "10000/10000 [==============================] - 1s 54us/step\n"
     ]
    },
    {
     "data": {
      "text/plain": [
       "[1.4184065114974975, 0.4959000051021576]"
      ]
     },
     "execution_count": 6,
     "metadata": {},
     "output_type": "execute_result"
    }
   ],
   "source": [
    "model.evaluate(x_test, y_test)"
   ]
  },
  {
   "cell_type": "code",
   "execution_count": 7,
   "metadata": {},
   "outputs": [],
   "source": [
    "CLASSES = np.array(['airplane', 'automobile', 'bird', 'cat', 'deer', 'dog'\n",
    "                   , 'frog', 'horse', 'ship', 'truck'])\n",
    "\n",
    "preds = model.predict(x_test)\n",
    "preds_single = CLASSES[np.argmax(preds, axis = -1)]\n",
    "actual_single = CLASSES[np.argmax(y_test, axis = -1)]"
   ]
  },
  {
   "cell_type": "code",
   "execution_count": 8,
   "metadata": {},
   "outputs": [
    {
     "data": {
      "image/png": "[encoded data removed]",
      "text/plain": [
       "<Figure size 1080x216 with 10 Axes>"
      ]
     },
     "metadata": {
      "needs_background": "light"
     },
     "output_type": "display_data"
    }
   ],
   "source": [
    "import matplotlib.pyplot as plt\n",
    "\n",
    "n_to_show = 10\n",
    "indices = np.random.choice(range(len(x_test)), n_to_show)\n",
    "\n",
    "fig = plt.figure(figsize=(15, 3))\n",
    "fig.subplots_adjust(hspace=0.4, wspace=0.4)\n",
    "\n",
    "for i, idx in enumerate(indices):\n",
    "    img = x_test[idx]\n",
    "    ax = fig.add_subplot(1, n_to_show, i+1)\n",
    "    ax.axis('off')\n",
    "    ax.text(0.5, -0.35, 'pred = ' + str(preds_single[idx]), fontsize=10\n",
    "       , ha='center', transform=ax.transAxes)\n",
    "    ax.text(0.5, -0.7, 'act = ' + str(actual_single[idx]), fontsize=10\n",
    "        , ha='center', transform=ax.transAxes)\n",
    "    ax.imshow(img)"
   ]
  }
 ],
 "metadata": {
  "kernelspec": {
   "display_name": "Python 3",
   "language": "python",
   "name": "python3"
  },
  "language_info": {
   "codemirror_mode": {
    "name": "ipython",
    "version": 3
   },
   "file_extension": ".py",
   "mimetype": "text/x-python",
   "name": "python",
   "nbconvert_exporter": "python",
   "pygments_lexer": "ipython3",
   "version": "3.6.9"
  }
 },
 "nbformat": 4,
 "nbformat_minor": 2
}
